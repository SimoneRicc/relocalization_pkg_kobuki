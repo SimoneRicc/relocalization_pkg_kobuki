{
 "cells": [
  {
   "cell_type": "code",
   "execution_count": 1,
   "metadata": {},
   "outputs": [
    {
     "data": {
      "text/plain": [
       "array([[ 2.00000000e+00,  0.00000000e+00,  0.00000000e+00,\n",
       "         0.00000000e+00,  0.00000000e+00,  1.00000000e+00,\n",
       "        -9.25137062e-01, -3.72863280e+00,  1.59153774e-01,\n",
       "         5.87117298e-01, -1.20316773e+00, -2.27632947e+00,\n",
       "         6.23181996e-01,  7.82076850e-01,  1.70731982e+09,\n",
       "         0.00000000e+00],\n",
       "       [ 2.00000000e+00,  3.17913599e+03,  3.49689941e+02,\n",
       "        -8.54863822e-02,  9.96330023e-01,  2.00000000e+00,\n",
       "        -5.44081657e-01, -2.89360826e+00,  2.31942548e-01,\n",
       "         5.42556934e-01, -7.56990361e-01, -2.10829145e+00,\n",
       "        -9.83579011e-01,  1.80478057e-01,  1.70731986e+09,\n",
       "         1.70731984e+09],\n",
       "       [ 2.00000000e+00,  3.11845435e+03,  3.56869141e+02,\n",
       "         8.95919859e-01,  4.43754971e-01,  3.00000000e+00,\n",
       "        -9.49644810e-01, -4.38620299e+00,  2.25859774e-01,\n",
       "         6.28191378e-01, -6.23806288e-01, -3.80742498e+00,\n",
       "         7.17445907e-01,  6.96614219e-01,  1.70731990e+09,\n",
       "         1.70731988e+09]])"
      ]
     },
     "execution_count": 1,
     "metadata": {},
     "output_type": "execute_result"
    }
   ],
   "source": [
    "import numpy as np\n",
    "array = np.load('test_real.npy')\n",
    "array.reshape(-1,16)"
   ]
  }
 ],
 "metadata": {
  "kernelspec": {
   "display_name": "Python 3",
   "language": "python",
   "name": "python3"
  },
  "language_info": {
   "codemirror_mode": {
    "name": "ipython",
    "version": 3
   },
   "file_extension": ".py",
   "mimetype": "text/x-python",
   "name": "python",
   "nbconvert_exporter": "python",
   "pygments_lexer": "ipython3",
   "version": "3.10.12"
  }
 },
 "nbformat": 4,
 "nbformat_minor": 2
}
